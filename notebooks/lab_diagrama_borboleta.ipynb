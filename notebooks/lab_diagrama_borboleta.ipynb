{
 "cells": [
  {
   "cell_type": "markdown",
   "id": "ff64f3be",
   "metadata": {
    "id": "ff64f3be"
   },
   "source": [
    "\n",
    "# Atividade: Ciclo Solar e Rotação do Sol\n",
    "\n",
    "**Objetivo da aula:**  \n",
    "- Carregar dados reais de manchas solares.  \n",
    "- Fazer o **diagrama da borboleta** (latitude das manchas vs. tempo).  \n",
    "- Visualizar a **área total de manchas** como função do tempo.\n",
    "- Calcular o **periodograma** dessa série temporal para explorar periodicidades.\n",
    "\n",
    "> **Dica:** Rode uma célula de cada vez (Shift+Enter)."
   ]
  },
  {
   "cell_type": "code",
   "execution_count": null,
   "id": "57371251",
   "metadata": {
    "id": "57371251"
   },
   "outputs": [],
   "source": [
    "\n",
    "# Imports essenciais\n",
    "import pandas as pd\n",
    "import numpy as np\n",
    "import matplotlib.pyplot as plt\n",
    "\n",
    "from pathlib import Path"
   ]
  },
  {
   "cell_type": "code",
   "execution_count": null,
   "id": "4433b12d",
   "metadata": {
    "colab": {
     "base_uri": "https://localhost:8080/"
    },
    "id": "4433b12d",
    "outputId": "a83eca3b-6763-417b-e600-bfea9a4031c4"
   },
   "outputs": [],
   "source": [
    "#Baixe o arquivo CSV para sua pasta no Drive e declare o caminho do arquivo:\n",
    "from google.colab import drive\n",
    "drive.mount('/content/drive')\n",
    "\n",
    "from pathlib import Path\n",
    "caminho_dados = Path('/content/drive/MyDrive/lab/manchas_1874_2016.csv')\n",
    "\n",
    "# Se for necessário, ajuste o caminho acima\n",
    "print(\"Arquivo existe?\", \"Sim\" if caminho_dados.exists() else \"Não\")"
   ]
  },
  {
   "cell_type": "markdown",
   "id": "16ed529d",
   "metadata": {
    "id": "16ed529d"
   },
   "source": [
    "\n",
    "## 1) Carregar e entender os dados\n",
    "\n",
    "Vamos:\n",
    "1. Ler o CSV.  \n",
    "2. Padronizar nomes de colunas.  \n",
    "3. Identificar as colunas principais: **tempo**, **latitude** e **área**.  \n",
    "4. Fazer uma limpeza mínima.\n"
   ]
  },
  {
   "cell_type": "code",
   "execution_count": null,
   "id": "14277c5f",
   "metadata": {
    "colab": {
     "base_uri": "https://localhost:8080/",
     "height": 694
    },
    "id": "14277c5f",
    "outputId": "9c4f2a57-7b03-4625-df78-9aabb38990e0"
   },
   "outputs": [],
   "source": [
    "# Leitura do CSV\n",
    "df_orig = pd.read_csv(caminho_dados)\n",
    "\n",
    "print('Colunas disponíveis:', list(df_orig.columns))\n",
    "df_orig.head(5)\n"
   ]
  },
  {
   "cell_type": "markdown",
   "id": "6b3f2323-f64c-49a0-a731-fe28e207e7a6",
   "metadata": {
    "id": "6b3f2323-f64c-49a0-a731-fe28e207e7a6"
   },
   "source": [
    "### Estatísticas básicas (`describe()`)\n",
    "\n",
    "Mostra contagens, média, desvio padrão, mínimos/máximos e quartis das colunas numéricas.Útil para conferir **ordens de grandeza** e se há valores estranhos.\n"
   ]
  },
  {
   "cell_type": "code",
   "execution_count": null,
   "id": "43513af0-b88e-4db2-8f00-d2bca6496d15",
   "metadata": {
    "colab": {
     "base_uri": "https://localhost:8080/",
     "height": 300
    },
    "id": "43513af0-b88e-4db2-8f00-d2bca6496d15",
    "outputId": "ce0c1bdc-e355-4608-b110-cafbfe04a3ba"
   },
   "outputs": [],
   "source": [
    "#Estatísticas básicas\n",
    "df_orig.describe()"
   ]
  },
  {
   "cell_type": "markdown",
   "id": "a8a7efab-058f-498f-98f4-afe79a937d0b",
   "metadata": {
    "id": "a8a7efab-058f-498f-98f4-afe79a937d0b"
   },
   "source": [
    "### Tipos das colunas (`dtypes`)\n",
    "\n",
    "Exibe o tipo de cada coluna (número, texto, data). Isso ajuda a decidir como tratar cada uma."
   ]
  },
  {
   "cell_type": "code",
   "execution_count": null,
   "id": "41ef20e4-36b9-47f5-ab5c-b1a1653db52f",
   "metadata": {
    "colab": {
     "base_uri": "https://localhost:8080/",
     "height": 335
    },
    "id": "41ef20e4-36b9-47f5-ab5c-b1a1653db52f",
    "outputId": "e7ae60cc-e8c1-4267-e16e-eb3d2a5a4a05"
   },
   "outputs": [],
   "source": [
    "df_orig.dtypes"
   ]
  },
  {
   "cell_type": "code",
   "execution_count": null,
   "id": "5debc9be",
   "metadata": {
    "colab": {
     "base_uri": "https://localhost:8080/",
     "height": 206
    },
    "id": "5debc9be",
    "outputId": "b440713b-7b7a-4c91-cd1b-d14c4789799a"
   },
   "outputs": [],
   "source": [
    "# Utilizaremos o tempo em ano decimal, calculado como na fórmula abaixo (apenas informativo):\n",
    "def to_decimal_year(ano, mes, dia, frac_dia):\n",
    "    return ano + (mes - 1)/12 + (dia - 1)/365 + frac_dia/365\n",
    "\n",
    "# Limpeza mínima tirando linhas de dados não existentes.\n",
    "df = df_orig.dropna(subset=['ano_decimal'])\n",
    "if 'latitude' in df.columns:\n",
    "    df = df.dropna(subset=['latitude'])\n",
    "if 'area' in df.columns:\n",
    "    df = df.dropna(subset=['area'])\n",
    "\n",
    "# Filtros físicos simples\n",
    "# Modifique caso queira restringir ainda mais os dados a serem analisados:\n",
    "if 'latitude' in df.columns:\n",
    "    df = df[df['latitude'].between(-60, 60)]\n",
    "if 'area' in df.columns:\n",
    "    df = df[df['area'] > 0]\n",
    "\n",
    "# garantir que os dados estão em ordem temporal\n",
    "df = df.sort_values('ano_decimal').reset_index(drop=True)\n",
    "\n",
    "df[['ano_decimal', 'latitude', 'area']].head()\n"
   ]
  },
  {
   "cell_type": "markdown",
   "id": "0400b8d6",
   "metadata": {
    "id": "0400b8d6"
   },
   "source": [
    "\n",
    "## 2) Diagrama da Borboleta\n",
    "\n",
    "O **diagrama da borboleta** mostra a latitude das manchas solares ao longo do tempo.  \n",
    "Nesta versão simples, vamos fazer um *scatter* de `ano_decimal` vs `latitude`."
   ]
  },
  {
   "cell_type": "code",
   "execution_count": null,
   "id": "0931a9c3",
   "metadata": {
    "colab": {
     "base_uri": "https://localhost:8080/",
     "height": 465
    },
    "id": "0931a9c3",
    "outputId": "e7235087-4860-4b0b-fccb-bb9c066e9d59"
   },
   "outputs": [],
   "source": [
    "plt.figure(figsize=(10, 5))\n",
    "plt.scatter(df['ano_decimal'], df['latitude'], s=5, alpha=0.5, zorder=10)\n",
    "plt.xlabel('Ano')\n",
    "plt.ylabel('Latitude (°)')\n",
    "plt.grid(True, alpha=0.3, zorder=0)\n",
    "plt.show()\n"
   ]
  },
  {
   "cell_type": "markdown",
   "id": "184c2ef1",
   "metadata": {
    "id": "184c2ef1"
   },
   "source": [
    "\n",
    "### Colorir a borboleta\n",
    "\n",
    "**Exemplo**: abaixo, dividimos em pequenas e grandes áreas."
   ]
  },
  {
   "cell_type": "code",
   "execution_count": null,
   "id": "074252fd-dcbd-4ce0-a6e8-4da04fd38f7b",
   "metadata": {
    "colab": {
     "base_uri": "https://localhost:8080/",
     "height": 465
    },
    "id": "074252fd-dcbd-4ce0-a6e8-4da04fd38f7b",
    "outputId": "a16b0e39-6009-4879-c2fe-5f36b3b74713"
   },
   "outputs": [],
   "source": [
    "#ordena a tabela por área das manchas, passo importante para a visualização.\n",
    "df = df.sort_values(by='area', ascending=True)\n",
    "\n",
    "area = df['area']\n",
    "\n",
    "conditions = [\n",
    "    (area <= 500),\n",
    "    (area > 500)\n",
    "]\n",
    "\n",
    "choices = ['purple','magenta']\n",
    "\n",
    "cores = np.select(conditions, choices, default='purple').tolist()\n",
    "\n",
    "plt.figure(figsize=(10,5))\n",
    "plt.scatter(df['ano_decimal'], df['latitude'], s=5, alpha=0.6, c=cores)\n",
    "plt.xlabel('Ano'); plt.ylabel('Latitude (°)')\n",
    "plt.grid(True, alpha=0.3)\n",
    "plt.show()"
   ]
  },
  {
   "cell_type": "markdown",
   "id": "2f9d975f-c862-4322-86a5-8d547e3798c2",
   "metadata": {
    "id": "2f9d975f-c862-4322-86a5-8d547e3798c2"
   },
   "source": [
    "### **Desafio** #1 — Colorir o diagrama da borboleta por área das manchas\n",
    "refazer o diagrama da borboleta acima com 3 grupos (pequena / média / grande).\n",
    "\n",
    "**pequena**: menor ou igual a 350\\\n",
    "**média**: entre 350 a 700\\\n",
    "**grande**: maior ou igual a 700"
   ]
  },
  {
   "cell_type": "markdown",
   "id": "9a5aef92",
   "metadata": {
    "id": "9a5aef92"
   },
   "source": [
    "\n",
    "## 3) Área total de manchas vs. tempo (série mensal)\n",
    "\n",
    "Para visualizar melhor a evolução temporal, vamos somar a **área** por mês."
   ]
  },
  {
   "cell_type": "code",
   "execution_count": null,
   "id": "bd436735-f1a2-4e11-9313-e3e6084f74fc",
   "metadata": {
    "colab": {
     "base_uri": "https://localhost:8080/",
     "height": 407
    },
    "id": "bd436735-f1a2-4e11-9313-e3e6084f74fc",
    "outputId": "bd419236-0024-4822-eeef-5005a71b6afa"
   },
   "outputs": [],
   "source": [
    "# Vamos recontruir as datas no formato necessário para utilizar o pandas to_datetime, ele facilitará o manuseio de séries temporais\n",
    "\n",
    "# A partir das colunas separadas de ano, mês e dia, criamos um objeto datetime para cada linha.\n",
    "ano = df['ano']\n",
    "mes = df['mes']\n",
    "dia = df['dia']\n",
    "datas = pd.to_datetime({'year': ano, 'month': mes, 'day': dia}, errors='coerce')\n",
    "\n",
    "# Cria uma cópia do DataFrame com a nova coluna 'data', a ideia de criar uma cópia serve como um forma de não alterarmos as informações\n",
    "# na tabela original.\n",
    "dfdiario = df.copy()\n",
    "dfdiario['data'] = datas\n",
    "\n",
    "# Soma diária da área das manchas\n",
    "\n",
    "# Agrupa as linhas pelo dia (freq='D') e soma a coluna 'area' de cada dia.\n",
    "diaria = dfdiario.groupby(pd.Grouper(key='data', freq='D'))['area'].sum().sort_index()\n",
    "\n",
    "# Vamos calculra a média móvel de 30 dias com a função .rolling do pandas.\n",
    "# Suavizaremos a série usando janela de 30 dias (min_periods=2 garante cálculo mesmo com poucos dados no início).\n",
    "ma30 = diaria.rolling(window=30, min_periods=2).mean()\n",
    "\n",
    "# Plot das duas curvas\n",
    "plt.figure(figsize=(11,4))\n",
    "plt.plot(diaria.index, diaria.values, alpha=0.4, label='Soma diária', c='k') # curva preta = valores brutos diários\n",
    "plt.plot(ma30.index, ma30.values, label='Média móvel 30 dias', c='red') # curva vermelha = suavizada\n",
    "plt.xlabel('Tempo')\n",
    "plt.ylabel('Área das manchas')\n",
    "plt.legend()\n",
    "plt.grid(True, alpha=0.3)\n",
    "plt.tight_layout()\n",
    "plt.show()\n"
   ]
  },
  {
   "cell_type": "markdown",
   "id": "937ffdd6-ea4d-41f8-9744-5d43b087dbf3",
   "metadata": {
    "id": "937ffdd6-ea4d-41f8-9744-5d43b087dbf3"
   },
   "source": [
    "### **Desafio** #2 — Média móvel anual (365)\n",
    "\n",
    "Refaça o gráfico acima aplicando uma média móvel de 365 dias à série diária e plote."
   ]
  },
  {
   "cell_type": "markdown",
   "id": "f8aca368",
   "metadata": {
    "id": "f8aca368"
   },
   "source": [
    "## 4) Período do Ciclo Solar e Período de Rotação\n",
    "\n",
    "O **periodograma Lomb–Scargle** é uma técnica usada para encontrar periodicidades em séries temporais que podem não ser uniformemente espaçadas no tempo.\n",
    "\n",
    "No caso do **ciclo solar**, podemos aplicar o método para os dados das áreas de manchas solares e tentar identificar a periodicidade característica."
   ]
  },
  {
   "cell_type": "code",
   "execution_count": null,
   "id": "296c032b-2ab9-4b53-9875-29f7d44dc611",
   "metadata": {
    "colab": {
     "base_uri": "https://localhost:8080/",
     "height": 424
    },
    "id": "296c032b-2ab9-4b53-9875-29f7d44dc611",
    "outputId": "6ccce788-f5b6-43c9-a8dd-e2ac7ffe1ddd"
   },
   "outputs": [],
   "source": [
    "import numpy as np\n",
    "import matplotlib.pyplot as plt\n",
    "from scipy.signal import lombscargle\n",
    "\n",
    "# Remove valores ausentes da série de média móvel de 30 dias\n",
    "s = ma30.dropna()\n",
    "\n",
    "# Converte datas para anos decimais desde o início da série\n",
    "t_anos = (s.index - s.index[0]).days / 365.25\n",
    "\n",
    "# Centraliza a série em torno da média (necessário para Lomb–Scargle)\n",
    "y = s.values.astype(float) - s.values.astype(float).mean()\n",
    "\n",
    "# Frequências em ciclos por ano para detectar períodos de 2 a 20 anos\n",
    "f = np.linspace(1/20, 1/2, 500)\n",
    "\n",
    "# Converte para frequência angular (rad/ano), que o lombscargle exige\n",
    "w = 2 * np.pi * f\n",
    "\n",
    "# Calcula o periodograma de Lomb–Scargle\n",
    "p = lombscargle(t_anos, y, w, normalize=True)\n",
    "\n",
    "# Converte frequências para períodos (anos)\n",
    "periodo_anos = 1 / f\n",
    "\n",
    "# Encontra o índice do pico de potência\n",
    "pico_id = np.argmax(p)\n",
    "\n",
    "# Obtém o valor do período correspondente ao pico\n",
    "pico_periodo = periodo_anos[pico_id]\n",
    "\n",
    "# Ordena os dados para plotar período crescente\n",
    "ordem = np.argsort(periodo_anos)\n",
    "\n",
    "# Cria o gráfico\n",
    "plt.figure(figsize=(8,4))\n",
    "plt.plot(periodo_anos[ordem], p[ordem])\n",
    "plt.xlabel('Período (anos)')\n",
    "plt.ylabel('Potência')\n",
    "plt.grid(True, alpha=0.3)\n",
    "plt.xlim(2, 20)\n",
    "\n",
    "# Marca no gráfico a posição do pico\n",
    "plt.axvline(pico_periodo, ls='--')\n",
    "plt.text(pico_periodo, p.max()*0.9,\n",
    "         fr' Pico $\\approx$ {pico_periodo:.1f} anos',\n",
    "         rotation=90, va='top')\n",
    "\n",
    "plt.tight_layout()\n",
    "plt.show()\n",
    "\n",
    "# Mostra o valor do pico\n",
    "print(f'Ciclo solar típico é de ~{pico_periodo.round(1)} anos')"
   ]
  },
  {
   "cell_type": "markdown",
   "id": "65a06693",
   "metadata": {
    "id": "65a06693"
   },
   "source": [
    "### **Desafio** #3 - Período de Rotação do Sol\n",
    "\n",
    "Use o periodograma de Lomb-Scargle para encontrar o período de rotação do Sol. Atenção para a amostragem dos dados e a escala de tempo do periodograma. Você é quem escolhe o domínio de frequências com base no período de interesse.\n",
    "\n",
    "**Entregar:**\n",
    "\n",
    "a. **Gráfico** — Potência × Período *(dias)*, restringindo a faixa **15–40 d**, com o **pico anotado**.  \n",
    "b. **Valor do período estimado e erro** — incerteza qualitativa pela largura FWHM do pico.  \n",
    "c. **Comentário** — comente se o valor obtido faz sentido com o período de rotação solar esperado.\n"
   ]
  }
 ],
 "metadata": {
  "colab": {
   "provenance": []
  },
  "kernelspec": {
   "display_name": "Python 3 (ipykernel)",
   "language": "python",
   "name": "python3"
  },
  "language_info": {
   "codemirror_mode": {
    "name": "ipython",
    "version": 3
   },
   "file_extension": ".py",
   "mimetype": "text/x-python",
   "name": "python",
   "nbconvert_exporter": "python",
   "pygments_lexer": "ipython3",
   "version": "3.9.23"
  }
 },
 "nbformat": 4,
 "nbformat_minor": 5
}
